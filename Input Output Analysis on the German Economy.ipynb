{
 "cells": [
  {
   "cell_type": "markdown",
   "metadata": {},
   "source": [
    "Importing Libraries"
   ]
  },
  {
   "cell_type": "code",
   "execution_count": 1,
   "metadata": {},
   "outputs": [],
   "source": [
    "import pandas as pd\n",
    "import numpy as np\n",
    "from scipy.linalg import inv\n",
    "import os"
   ]
  },
  {
   "cell_type": "markdown",
   "metadata": {},
   "source": [
    "Importing Data from files"
   ]
  },
  {
   "cell_type": "code",
   "execution_count": 23,
   "metadata": {},
   "outputs": [],
   "source": [
    "\n",
    "filepath_io_data_raw = r\"C:\\Users\\devan\\IO_data_EN2019.csv\"\n",
    "io_data_raw = pd.read_csv(filepath_io_data_raw)\n",
    "\n",
    "# io_data_raw = io_data_raw.rename(columns={'X': 'sectors'})\n",
    "# sector_labels = io_data_raw[['sectors']].to_dict(orient='list')\n",
    "\n",
    "\n",
    "\n",
    "# Read the yearly cost data\n",
    "filepath_results_for_io = r\"C:\\Users\\devan\\results_for_io.csv\"\n",
    "yearly_cost_data = pd.read_csv(filepath_results_for_io)\n",
    "\n",
    "# Read the cost distribution data\n",
    "filepath_cost_factors_renovation_IO = r\"C:\\Users\\devan\\cost_factors_renovation_IO.csv\"\n",
    "cost_distribution = pd.read_csv(filepath_cost_factors_renovation_IO)\n",
    "\n",
    "\n",
    "\n"
   ]
  },
  {
   "cell_type": "markdown",
   "metadata": {},
   "source": [
    "Defining Parameter"
   ]
  },
  {
   "cell_type": "code",
   "execution_count": 20,
   "metadata": {},
   "outputs": [],
   "source": [
    "count_sectors = 72  # Number of sectors in the IO table\n",
    "location_final_consumption = 74  # Location of final consumption data\n",
    "location_wages = 78  # Location of wages data\n",
    "\n",
    "start_year = 2024  # Start year for the analysis\n",
    "end_year = 2050  # End year for the analysis\n",
    "duration = end_year - start_year + 1  # Duration of the analysis in years"
   ]
  },
  {
   "cell_type": "markdown",
   "metadata": {},
   "source": [
    "Creating Sector labels as row indices"
   ]
  },
  {
   "cell_type": "code",
   "execution_count": 25,
   "metadata": {},
   "outputs": [],
   "source": [
    "io_cost = io_data_raw.drop(columns=['sectors'])\n",
    "io_cost.index = io_data_raw['sectors']\n"
   ]
  },
  {
   "cell_type": "markdown",
   "metadata": {},
   "source": [
    "Creating transposed version of IO table"
   ]
  },
  {
   "cell_type": "code",
   "execution_count": null,
   "metadata": {},
   "outputs": [],
   "source": [
    "io_demand = io_cost.T\n",
    "io_cost_reduced = io_cost.iloc[:count_sectors, :count_sectors + 1]"
   ]
  },
  {
   "cell_type": "markdown",
   "metadata": {},
   "source": [
    "Empty dataframes to collect impulse vectors"
   ]
  },
  {
   "cell_type": "code",
   "execution_count": null,
   "metadata": {},
   "outputs": [],
   "source": [
    "io_impulse_empty = pd.DataFrame(np.zeros((duration, count_sectors + 1)), columns=list(io_demand.index) + [\"year\"])\n",
    "io_impulse_empty[\"year\"] = range(start_year, end_year + 1)"
   ]
  },
  {
   "cell_type": "markdown",
   "metadata": {},
   "source": [
    "Distributing renovation costs across different economic sectors"
   ]
  },
  {
   "cell_type": "code",
   "execution_count": null,
   "metadata": {},
   "outputs": [],
   "source": [
    "cost_distribution = cost_distribution.assign(\n",
    "    share_installation=cost_distribution['share_roof'] * cost_distribution['roof_inst'] +\n",
    "                       cost_distribution['share_wall'] * cost_distribution['wall_inst'] +\n",
    "                       cost_distribution['share_ceiling'] * cost_distribution['ceiling_inst'] +\n",
    "                       cost_distribution['share_window'] * cost_distribution['window_inst'],\n",
    "    share_material=cost_distribution['share_roof'] * cost_distribution['roof_mat'] +\n",
    "                   cost_distribution['share_wall'] * cost_distribution['wall_mat'] +\n",
    "                   cost_distribution['share_ceiling'] * cost_distribution['ceiling_mat'],\n",
    "    other_chemistry=cost_distribution['share_material'] * cost_distribution['share_chem'],\n",
    "    other_ceramics=cost_distribution['share_material'] * cost_distribution['share_keramik'],\n",
    "    other_glass=cost_distribution['share_material'] * cost_distribution['share_glass'],\n",
    "    other_plastics=cost_distribution['window_mat'] * cost_distribution['share_window']\n",
    ")"
   ]
  },
  {
   "cell_type": "markdown",
   "metadata": {},
   "source": [
    "Creating Impulse vectors"
   ]
  },
  {
   "cell_type": "code",
   "execution_count": null,
   "metadata": {},
   "outputs": [],
   "source": [
    "yearly_cost_redux = yearly_cost_data.rename(columns={'yearly_io_hp_cost': 'hp_cost'})[['year', 'io_cost_prio', 'hp_cost']]\n",
    "yearly_cost_redux['other_costs'] = yearly_cost_redux['io_cost_prio'] - yearly_cost_redux['hp_cost']\n",
    "\n",
    "yearly_cost_io = io_impulse_empty.iloc[:, :count_sectors + 1].copy()\n",
    "yearly_cost_io = yearly_cost_io.assign(\n",
    "    Specialised_construction_works=(\n",
    "        yearly_cost_redux['other_costs'] * cost_distribution['share_installation'] +\n",
    "        yearly_cost_redux['hp_cost'] * cost_distribution['hp_inst']\n",
    "    ),\n",
    "    Chemicals_and_chemical_products=(\n",
    "        yearly_cost_redux['other_costs'] * cost_distribution['other_chemistry']\n",
    "    ),\n",
    "    Ceramic_products_processed_stone_and_clay=(\n",
    "        yearly_cost_redux['other_costs'] * cost_distribution['other_ceramics']\n",
    "    ),\n",
    "    Glass_and_glassware=(\n",
    "        yearly_cost_redux['other_costs'] * cost_distribution['other_glass']\n",
    "    ),\n",
    "    Rubber_and_plastics_products=(\n",
    "        yearly_cost_redux['other_costs'] * cost_distribution['other_plastics']\n",
    "    ),\n",
    "    Electrical_equipment=(\n",
    "        yearly_cost_redux['hp_cost'] * cost_distribution['hp_electricity']\n",
    "    ),\n",
    "    Machinery=(\n",
    "        yearly_cost_redux['hp_cost'] * cost_distribution['hp_machines']\n",
    "    ),\n",
    "    Wages_and_salaries=cost_distribution['Wages.and.salaries']\n",
    ")\n"
   ]
  },
  {
   "cell_type": "markdown",
   "metadata": {},
   "source": [
    "Calculating the Leontief Inverse"
   ]
  },
  {
   "cell_type": "code",
   "execution_count": null,
   "metadata": {},
   "outputs": [],
   "source": [
    "x = pd.concat([\n",
    "    io_cost.loc[:, ['Total.uses.of.products']].iloc[:count_sectors],\n",
    "    io_demand.rename(columns={'Wages.and.salaries': 'Total.uses.of.products'}).iloc[[location_wages - 1], ['Total.uses.of.products']]\n",
    "], ignore_index=True)\n",
    "\n",
    "x.index = list(io_cost.index[:count_sectors]) + ['Wages.and.salaries']\n",
    "\n",
    "\n",
    "x_hat = np.diag(x['Total.uses.of.products'])\n",
    "\n",
    "\n",
    "A = np.dot(io_cost_reduced.to_numpy(), inv(x_hat))\n",
    "\n",
    "L_inverse = inv(np.eye(count_sectors + 1) - A)"
   ]
  },
  {
   "cell_type": "markdown",
   "metadata": {},
   "source": [
    "Using Leontief Inverse to compute the economic output for each year"
   ]
  },
  {
   "cell_type": "code",
   "execution_count": null,
   "metadata": {},
   "outputs": [],
   "source": [
    "new_output_matrix = np.dot(L_inverse, yearly_cost_io.iloc[:, 1:count_sectors + 2].T.to_numpy())\n",
    "\n",
    "\n",
    "yearly_new_output = pd.DataFrame(new_output_matrix)\n",
    "\n",
    "\n",
    "yearly_new_output.columns = range(start_year, end_year + 1)\n",
    "yearly_new_output.index = yearly_cost_io.columns[1:count_sectors + 2]"
   ]
  },
  {
   "cell_type": "markdown",
   "metadata": {},
   "source": [
    "Calculating Sector Impact"
   ]
  },
  {
   "cell_type": "code",
   "execution_count": null,
   "metadata": {},
   "outputs": [],
   "source": [
    "sector_impact_employed = yearly_new_output.iloc[:count_sectors, :] * factors_and_aggregates['effect_employed'].values[:, np.newaxis]\n",
    "sector_impact_employment = yearly_new_output.iloc[:count_sectors, :] * factors_and_aggregates['effect_employment'].values[:, np.newaxis]\n",
    "sector_impact_imports = yearly_new_output.iloc[:count_sectors, :] * factors_and_aggregates['share_imports'].values[:, np.newaxis]\n",
    "sector_impact_profit = yearly_new_output.iloc[:count_sectors, :] * factors_and_aggregates['share_profit'].values[:, np.newaxis]\n",
    "sector_impact_wages = yearly_new_output.iloc[:count_sectors, :] * factors_and_aggregates['share_wages'].values[:, np.newaxis]\n",
    "sector_impact_VA = yearly_new_output.iloc[:count_sectors, :] * factors_and_aggregates['share_VA'].values[:, np.newaxis]\n"
   ]
  },
  {
   "cell_type": "markdown",
   "metadata": {},
   "source": []
  },
  {
   "cell_type": "code",
   "execution_count": null,
   "metadata": {},
   "outputs": [],
   "source": [
    "io_results = pd.DataFrame({\n",
    "    'year': range(start_year, end_year + 1),\n",
    "    'growth_employed': sector_impact_employed.sum(axis=0),\n",
    "    'growth_employment': sector_impact_employment.sum(axis=0),\n",
    "    'growth_imports': sector_impact_imports.sum(axis=0),\n",
    "    'growth_profit': sector_impact_profit.sum(axis=0),\n",
    "    'growth_wages': sector_impact_wages.sum(axis=0),\n",
    "    'growth_VA': sector_impact_VA.sum(axis=0),\n",
    "    'initial_stimulus': yearly_cost_io.iloc[:, 1:count_sectors + 2].sum(axis=1)\n",
    "})\n",
    "\n",
    "\n",
    "io_results['multiplier'] = io_results['growth_VA'] / io_results['initial_stimulus']\n",
    "io_results = io_results[['year', 'multiplier'] + [col for col in io_results.columns if col not in ['year', 'multiplier']]]\n",
    "\n",
    "io_results_mean = pd.DataFrame(io_results.iloc[:, 1:].mean(axis=0), columns=['mean']).T"
   ]
  }
 ],
 "metadata": {
  "kernelspec": {
   "display_name": "Python 3",
   "language": "python",
   "name": "python3"
  },
  "language_info": {
   "codemirror_mode": {
    "name": "ipython",
    "version": 3
   },
   "file_extension": ".py",
   "mimetype": "text/x-python",
   "name": "python",
   "nbconvert_exporter": "python",
   "pygments_lexer": "ipython3",
   "version": "3.8.5"
  }
 },
 "nbformat": 4,
 "nbformat_minor": 4
}
